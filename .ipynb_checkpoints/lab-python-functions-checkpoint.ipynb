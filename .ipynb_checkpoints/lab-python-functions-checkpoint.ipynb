{
 "cells": [
  {
   "cell_type": "markdown",
   "id": "25d7736c-ba17-4aff-b6bb-66eba20fbf4e",
   "metadata": {},
   "source": [
    "# Lab | Functions"
   ]
  },
  {
   "cell_type": "markdown",
   "id": "0c581062-8967-4d93-b06e-62833222f930",
   "metadata": {
    "tags": []
   },
   "source": [
    "## Exercise: Managing Customer Orders with Functions\n",
    "\n",
    "In the previous exercise, you improved the code for managing customer orders by using loops and flow control. Now, let's take it a step further and refactor the code by introducing functions.\n",
    "\n",
    "Follow the steps below to complete the exercise:\n",
    "\n",
    "1. Define a function named `initialize_inventory` that takes `products` as a parameter. Inside the function, implement the code for initializing the inventory dictionary using a loop and user input.\n",
    "\n",
    "2. Define a function named `get_customer_orders` that takes no parameters. Inside the function, implement the code for prompting the user to enter the product names using a loop. The function should return the `customer_orders` set.\n",
    "\n",
    "3. Define a function named `update_inventory` that takes `customer_orders` and `inventory` as parameters. Inside the function, implement the code for updating the inventory dictionary based on the customer orders.\n",
    "\n",
    "4. Define a function named `calculate_order_statistics` that takes `customer_orders` and `products` as parameters. Inside the function, implement the code for calculating the order statistics (total products ordered, and percentage of unique products ordered). The function should return these values.\n",
    "\n",
    "5. Define a function named `print_order_statistics` that takes `order_statistics` as a parameter. Inside the function, implement the code for printing the order statistics.\n",
    "\n",
    "6. Define a function named `print_updated_inventory` that takes `inventory` as a parameter. Inside the function, implement the code for printing the updated inventory.\n",
    "\n",
    "7. Call the functions in the appropriate sequence to execute the program and manage customer orders.\n",
    "\n",
    "Hints for functions:\n",
    "\n",
    "- Consider the input parameters required for each function and their return values.\n",
    "- Utilize function parameters and return values to transfer data between functions.\n",
    "- Test your functions individually to ensure they work correctly.\n",
    "\n",
    "\n"
   ]
  },
  {
   "cell_type": "code",
   "execution_count": 2,
   "id": "5234c8ab-1ccb-411d-8a9b-0f3a592eeec3",
   "metadata": {},
   "outputs": [],
   "source": [
    "# 1 Function initialize_inventory\n",
    "\n",
    "# Function to initialize the inventory dictionary\n",
    "def initialize_inventory(products):\n",
    "    inventory = {}\n",
    "    print(\"Please enter the quantity of each product available in the inventory:\")\n",
    "    for item in products:\n",
    "        quantity = int(input(f\"Enter the quantity for {item}: \"))\n",
    "        inventory[item] = quantity\n",
    "    return inventory"
   ]
  },
  {
   "cell_type": "code",
   "execution_count": 3,
   "id": "9755d0ea-722e-420f-a075-e5d5c1af0acc",
   "metadata": {},
   "outputs": [],
   "source": [
    "# 2 Define get_customer_orders\n",
    "\n",
    "# Function to get customer orders\n",
    "def get_customer_orders():\n",
    "    customer_orders = set()\n",
    "    print(\"Please enter the name of a product that a customer wants to order: t-shirt, mug, hat, book, or keychain\")\n",
    "    answer = \"yes\"\n",
    "    while answer.lower() == \"yes\":\n",
    "        product = input(\"Enter product name: \").lower()\n",
    "        if product in products:\n",
    "            customer_orders.add(product)\n",
    "            print(f\"Added {product}.\")\n",
    "        else:\n",
    "            print(f\"{product} is not a valid product. Please choose from: {', '.join(products)}\")\n",
    "        answer = input(\"Do you want to add another product? yes/no: \").lower()\n",
    "    return customer_orders"
   ]
  },
  {
   "cell_type": "code",
   "execution_count": 4,
   "id": "3752a632-240d-4ec0-9203-9bbc61d3bd16",
   "metadata": {},
   "outputs": [],
   "source": [
    "# 3 Define update_inventory\n",
    "\n",
    "# Function to update inventory based on customer orders\n",
    "def update_inventory(customer_orders, inventory):\n",
    "    for item in customer_orders:\n",
    "        if inventory[item] > 0:\n",
    "            inventory[item] -= 1\n",
    "            print(f\"Updated inventory for {item}: {inventory[item]}\")\n",
    "        else:\n",
    "            print(f\"Cannot fulfill order for {item}: Out of stock.\")"
   ]
  },
  {
   "cell_type": "code",
   "execution_count": 5,
   "id": "4a99e67e-3a70-48a8-8f9b-46f217ac23dd",
   "metadata": {},
   "outputs": [],
   "source": [
    "# 4 Define calculate_order_statistics\n",
    "\n",
    "# Function to calculate order statistics\n",
    "def calculate_order_statistics(customer_orders, products):\n",
    "    total_products_ordered = len(customer_orders)  # Number of unique products ordered\n",
    "    percentage_ordered = (total_products_ordered / len(products)) * 100 if len(products) > 0 else 0\n",
    "    return total_products_ordered, percentage_ordered"
   ]
  },
  {
   "cell_type": "code",
   "execution_count": 6,
   "id": "66e90ad9-ce66-4371-99a6-fc60c9a44223",
   "metadata": {},
   "outputs": [],
   "source": [
    "# 5 Define print_order_statistic\n",
    "\n",
    "# Function to print order statistics\n",
    "def print_order_statistics(order_statistics):\n",
    "    total_products_ordered, percentage_ordered = order_statistics\n",
    "    print(\"\\nOrder Statistics:\")\n",
    "    print(f\"Total Products Ordered: {total_products_ordered}\")\n",
    "    print(f\"Percentage of Products Ordered: {percentage_ordered:.2f}%\")"
   ]
  },
  {
   "cell_type": "code",
   "execution_count": 7,
   "id": "34f5738f-fd87-4347-a9f5-d5ade2126d34",
   "metadata": {},
   "outputs": [],
   "source": [
    "# 6 Define print_updated_inventory\n",
    "\n",
    "# Function to print the updated inventory\n",
    "def print_updated_inventory(inventory):\n",
    "    print(\"\\nUpdated Inventory:\")\n",
    "    for item, quantity in inventory.items():\n",
    "        print(f\"{item}: {quantity}\")"
   ]
  },
  {
   "cell_type": "code",
   "execution_count": 8,
   "id": "ba8be151-f6c9-4ea7-979c-1bc0b19eed91",
   "metadata": {},
   "outputs": [
    {
     "name": "stdout",
     "output_type": "stream",
     "text": [
      "Please enter the quantity of each product available in the inventory:\n"
     ]
    },
    {
     "name": "stdin",
     "output_type": "stream",
     "text": [
      "Enter the quantity for t-shirt:  1\n",
      "Enter the quantity for mug:  2\n",
      "Enter the quantity for hat:  3\n",
      "Enter the quantity for book:  4\n",
      "Enter the quantity for keychain:  5\n"
     ]
    },
    {
     "name": "stdout",
     "output_type": "stream",
     "text": [
      "Please enter the name of a product that a customer wants to order: t-shirt, mug, hat, book, or keychain\n"
     ]
    },
    {
     "name": "stdin",
     "output_type": "stream",
     "text": [
      "Enter product name:  t-shirt\n"
     ]
    },
    {
     "name": "stdout",
     "output_type": "stream",
     "text": [
      "Added t-shirt.\n"
     ]
    },
    {
     "name": "stdin",
     "output_type": "stream",
     "text": [
      "Do you want to add another product? yes/no:  yes\n",
      "Enter product name:  ,ug\n"
     ]
    },
    {
     "name": "stdout",
     "output_type": "stream",
     "text": [
      ",ug is not a valid product. Please choose from: t-shirt, mug, hat, book, keychain\n"
     ]
    },
    {
     "name": "stdin",
     "output_type": "stream",
     "text": [
      "Do you want to add another product? yes/no:  mug\n"
     ]
    },
    {
     "name": "stdout",
     "output_type": "stream",
     "text": [
      "Updated inventory for t-shirt: 0\n",
      "\n",
      "Order Statistics:\n",
      "Total Products Ordered: 1\n",
      "Percentage of Products Ordered: 20.00%\n",
      "\n",
      "Updated Inventory:\n",
      "t-shirt: 0\n",
      "mug: 2\n",
      "hat: 3\n",
      "book: 4\n",
      "keychain: 5\n"
     ]
    }
   ],
   "source": [
    "# 7 Calling the functions\n",
    "\n",
    "# Main program execution\n",
    "if __name__ == \"__main__\":\n",
    "    products = [\"t-shirt\", \"mug\", \"hat\", \"book\", \"keychain\"]\n",
    "    \n",
    "    # Initialize inventory\n",
    "    inventory = initialize_inventory(products)\n",
    "    \n",
    "    # Get customer orders\n",
    "    customer_orders = get_customer_orders()\n",
    "    \n",
    "    # Update inventory based on orders\n",
    "    update_inventory(customer_orders, inventory)\n",
    "    \n",
    "    # Calculate order statistics\n",
    "    order_statistics = calculate_order_statistics(customer_orders, products)\n",
    "    \n",
    "    # Print order statistics\n",
    "    print_order_statistics(order_statistics)\n",
    "    \n",
    "    # Print updated inventory\n",
    "    print_updated_inventory(inventory)"
   ]
  }
 ],
 "metadata": {
  "kernelspec": {
   "display_name": "Python 3 (ipykernel)",
   "language": "python",
   "name": "python3"
  },
  "language_info": {
   "codemirror_mode": {
    "name": "ipython",
    "version": 3
   },
   "file_extension": ".py",
   "mimetype": "text/x-python",
   "name": "python",
   "nbconvert_exporter": "python",
   "pygments_lexer": "ipython3",
   "version": "3.12.7"
  }
 },
 "nbformat": 4,
 "nbformat_minor": 5
}
